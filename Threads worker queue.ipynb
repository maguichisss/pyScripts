{
 "cells": [
  {
   "cell_type": "code",
   "execution_count": 26,
   "metadata": {},
   "outputs": [],
   "source": [
    "from queue import Queue\n",
    "import threading\n",
    "import time\n",
    "\n",
    "# Initializing a queue\n",
    "q = Queue()\n",
    "number_threads = 4\n",
    "\n",
    "def worker():\n",
    "    while True:\n",
    "        #threading.currentThread().getName()\n",
    "        #threading.current_thread()\n",
    "        print(\"Waiting queue... thread {}\".format(threading.currentThread().getName()))\n",
    "        item = q.get()\n",
    "        print(\"Item received... thread {}\".format(threading.current_thread()))\n",
    "        if item is None:\n",
    "            q.task_done()\n",
    "            break\n",
    "        the_function_to_thread(item)\n",
    "        q.task_done()\n",
    "\n",
    "def the_function_to_thread(item):\n",
    "    print(\"Processing...{} thread {}\".format(item, threading.current_thread()))\n",
    "    time.sleep(2)\n",
    "    print(\"Processed... thread {}\".format(threading.current_thread()))\n"
   ]
  },
  {
   "cell_type": "code",
   "execution_count": 27,
   "metadata": {},
   "outputs": [
    {
     "name": "stdout",
     "output_type": "stream",
     "text": [
      "Waiting queue... thread Thread-60\n",
      "Waiting queue... thread Thread-61\n",
      "Waiting queue... thread Thread-62Waiting queue... thread Thread-63\n",
      "\n"
     ]
    }
   ],
   "source": [
    "# start worker threads\n",
    "threads = []\n",
    "for _ in range(number_threads):\n",
    "    t = threading.Thread(target=worker)\n",
    "    t.start()\n",
    "    threads.append(t)"
   ]
  },
  {
   "cell_type": "code",
   "execution_count": 19,
   "metadata": {},
   "outputs": [
    {
     "name": "stdout",
     "output_type": "stream",
     "text": [
      "Item received... thread <Thread(Thread-59, started 140178161116928)>\n",
      "Processing...1 thread <Thread(Thread-59, started 140178161116928)>\n",
      "Item received... thread <Thread(Thread-57, started 140178186295040)>\n",
      "Processing...2 thread <Thread(Thread-57, started 140178186295040)>\n",
      "Item received... thread <Thread(Thread-58, started 140177666209536)>\n",
      "Processing...3 thread <Thread(Thread-58, started 140177666209536)>\n",
      "Item received... thread <Thread(Thread-56, started 140178152724224)>\n",
      "Processing...4 thread <Thread(Thread-56, started 140178152724224)>\n"
     ]
    }
   ],
   "source": [
    "# add items to queue\n",
    "for item in range(1,64):\n",
    "    q.put(item)"
   ]
  },
  {
   "cell_type": "code",
   "execution_count": 20,
   "metadata": {},
   "outputs": [],
   "source": [
    "# stop all workers\n",
    "for _ in range(number_threads):\n",
    "    q.put(None)"
   ]
  },
  {
   "cell_type": "code",
   "execution_count": 22,
   "metadata": {},
   "outputs": [
    {
     "data": {
      "text/plain": [
       "[<_MainThread(MainThread, started 140180652791616)>,\n",
       " <Thread(Thread-2, started daemon 140180569052928)>,\n",
       " <Heartbeat(Thread-3, started daemon 140180560660224)>,\n",
       " <HistorySavingThread(IPythonHistorySavingThread, started 140180333778688)>,\n",
       " <ParentPollerUnix(Thread-1, started daemon 140180325123840)>]"
      ]
     },
     "execution_count": 22,
     "metadata": {},
     "output_type": "execute_result"
    }
   ],
   "source": [
    "threading.enumerate()"
   ]
  },
  {
   "cell_type": "code",
   "execution_count": null,
   "metadata": {},
   "outputs": [],
   "source": []
  },
  {
   "cell_type": "code",
   "execution_count": null,
   "metadata": {},
   "outputs": [],
   "source": []
  },
  {
   "cell_type": "code",
   "execution_count": null,
   "metadata": {},
   "outputs": [],
   "source": []
  }
 ],
 "metadata": {
  "kernelspec": {
   "display_name": "Python 3",
   "language": "python",
   "name": "python3"
  },
  "language_info": {
   "codemirror_mode": {
    "name": "ipython",
    "version": 3
   },
   "file_extension": ".py",
   "mimetype": "text/x-python",
   "name": "python",
   "nbconvert_exporter": "python",
   "pygments_lexer": "ipython3",
   "version": "3.8.5"
  }
 },
 "nbformat": 4,
 "nbformat_minor": 4
}
