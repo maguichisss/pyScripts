{
 "cells": [
  {
   "cell_type": "code",
   "execution_count": 1,
   "metadata": {},
   "outputs": [],
   "source": [
    "from multiprocessing import Lock, Process, Queue, current_process\n",
    "import time\n",
    "import queue # imported for using queue.Empty exception\n",
    "\n",
    "\n",
    "def do_job(tasks_to_accomplish, tasks_that_are_done):\n",
    "    while True:\n",
    "        try:\n",
    "            '''\n",
    "                try to get task from the queue. get_nowait() function will \n",
    "                raise queue.Empty exception if the queue is empty. \n",
    "                queue(False) function would do the same task also.\n",
    "            '''\n",
    "            task = tasks_to_accomplish.get_nowait()\n",
    "        except queue.Empty:\n",
    "\n",
    "            break\n",
    "        else:\n",
    "            '''\n",
    "                if no exception has been raised, add the task completion \n",
    "                message to task_that_are_done queue\n",
    "            '''\n",
    "            print(task)\n",
    "            tasks_that_are_done.put(task + ' is done by ' + current_process().name)\n",
    "            time.sleep(.5)\n",
    "    return True\n",
    "\n",
    "\n",
    "def main():\n",
    "    number_of_task = 10\n",
    "    number_of_processes = 4\n",
    "    tasks_to_accomplish = Queue()\n",
    "    tasks_that_are_done = Queue()\n",
    "    processes = []\n",
    "\n",
    "    for i in range(number_of_task):\n",
    "        tasks_to_accomplish.put(\"Task no \" + str(i))\n",
    "\n",
    "    # creating processes\n",
    "    for w in range(number_of_processes):\n",
    "        p = Process(target=do_job, args=(tasks_to_accomplish, tasks_that_are_done))\n",
    "        processes.append(p)\n",
    "        p.start()\n",
    "\n",
    "    # completing process\n",
    "    for p in processes:\n",
    "        p.join()\n",
    "\n",
    "    # print the output\n",
    "    while not tasks_that_are_done.empty():\n",
    "        print(tasks_that_are_done.get())\n",
    "\n",
    "    return True\n"
   ]
  },
  {
   "cell_type": "code",
   "execution_count": 2,
   "metadata": {},
   "outputs": [
    {
     "name": "stdout",
     "output_type": "stream",
     "text": [
      "Task no 0\n",
      "Task no 1Task no 2\n",
      "\n",
      "Task no 3\n",
      "Task no 4\n",
      "Task no 5Task no 6\n",
      "\n",
      "Task no 7\n",
      "Task no 8\n",
      "Task no 9\n",
      "Task no 0 is done by Process-1\n",
      "Task no 1 is done by Process-2\n",
      "Task no 2 is done by Process-3\n",
      "Task no 3 is done by Process-4\n",
      "Task no 4 is done by Process-1\n",
      "Task no 5 is done by Process-2\n",
      "Task no 6 is done by Process-3\n",
      "Task no 7 is done by Process-4\n",
      "Task no 8 is done by Process-1\n",
      "Task no 9 is done by Process-2\n"
     ]
    },
    {
     "data": {
      "text/plain": [
       "True"
      ]
     },
     "execution_count": 2,
     "metadata": {},
     "output_type": "execute_result"
    }
   ],
   "source": [
    "main()"
   ]
  },
  {
   "cell_type": "code",
   "execution_count": 15,
   "metadata": {},
   "outputs": [],
   "source": [
    "from multiprocessing import Lock, Process, Queue, current_process\n",
    "import time\n",
    "import queue # imported for using queue.Empty exception\n",
    "import glob\n",
    "import os\n",
    "import sys\n",
    "from datetime import datetime\n",
    "\n",
    "def get_subdirs(path, q_done):\n",
    "    # get all subdirs\n",
    "    #all_subdirs = []\n",
    "    for root,subdirs,files in os.walk(path, topdown=True):\n",
    "        #print(root,subdirs,files)\n",
    "        for d in subdirs:\n",
    "            #all_files.append(root+\"/\"+f)\n",
    "            q_done.put(os.path.realpath(os.path.join(root, d)))\n",
    "    #return all_subdirs\n",
    "\n",
    "def worker(q_dirs, q_done):\n",
    "    while True:\n",
    "        try:\n",
    "            '''\n",
    "                try to get task from the queue. get_nowait() function will \n",
    "                raise queue.Empty exception if the queue is empty. \n",
    "                queue(False) function would do the same task also.\n",
    "            '''\n",
    "            dir_path = q_dirs.get_nowait()\n",
    "            paths = get_subdirs(dir_path, q_done)\n",
    "        except queue.Empty:\n",
    "            break\n",
    "        else:\n",
    "            '''\n",
    "                if no exception has been raised, add the task completion \n",
    "                message to task_that_are_done queue\n",
    "            '''\n",
    "            print(dir_path)\n",
    "            q_done.put(paths)\n",
    "            time.sleep(5)\n",
    "    return True\n",
    "\n",
    "def stuff():\n",
    "    number_of_task = 10\n",
    "    number_of_processes = 4\n",
    "    q_dirs = Queue()\n",
    "    q_done = Queue()\n",
    "    processes = []\n",
    "    path = \"/home/maugb/aptude/\"\n",
    "    list_of_dirs = glob.glob(path+\"*\")\n",
    "\n",
    "    for d in list_of_dirs:\n",
    "        q_dirs.put(d)\n",
    "\n",
    "    # creating processes\n",
    "    for w in range(number_of_processes):\n",
    "        p = Process(target=worker, args=(q_dirs, q_done))\n",
    "        processes.append(p)\n",
    "        p.start()\n",
    "\n",
    "    # completing process\n",
    "    for p in processes:\n",
    "        p.join()\n",
    "\n",
    "    # print the output\n",
    "    all_subdirs = set()\n",
    "    while not q_done.empty():\n",
    "        all_subdirs.add(q_done.get_nowait())\n",
    "    print(all_subdirs)\n",
    "\n",
    "    return True\n"
   ]
  },
  {
   "cell_type": "code",
   "execution_count": 16,
   "metadata": {},
   "outputs": [
    {
     "name": "stdout",
     "output_type": "stream",
     "text": [
      "/home/maugb/aptude/archive_files.py\n",
      "/home/maugb/aptude/cosas.sql\n",
      "/home/maugb/aptude/django_test\n",
      "/home/maugb/aptude/Building-Django-2.0-Web-Applications\n",
      "/home/maugb/aptude/flask_test\n",
      "/home/maugb/aptude/shit.py\n",
      "/home/maugb/aptude/somos_kudasai_elasticsearch\n",
      "/home/maugb/aptude/stuff.sh\n",
      "/home/maugb/aptude/tests.py\n",
      "/home/maugb/aptude/test\n",
      "/home/maugb/aptude/__pycache__\n",
      "{'/mnt/c/Users/MauricioIlhuicaminaG/aptude/Building-Django-2.0-Web-Applications/Chapter07/django/cueeneh/management/__pycache__', '/mnt/c/Users/MauricioIlhuicaminaG/aptude/somos_kudasai_elasticsearch/somos_kudasai_elasticsearch', '/mnt/c/Users/MauricioIlhuicaminaG/aptude/Building-Django-2.0-Web-Applications/.git/objects/2f', '/mnt/c/Users/MauricioIlhuicaminaG/aptude/Building-Django-2.0-Web-Applications/.git/objects/27', '/mnt/c/Users/MauricioIlhuicaminaG/aptude/Building-Django-2.0-Web-Applications/.git/refs', '/mnt/c/Users/MauricioIlhuicaminaG/aptude/somos_kudasai_elasticsearch/tests', '/mnt/c/Users/MauricioIlhuicaminaG/aptude/somos_kudasai_elasticsearch/.git/objects/e9', '/mnt/c/Users/MauricioIlhuicaminaG/aptude/somos_kudasai_elasticsearch/.git/objects/0d', '/mnt/c/Users/MauricioIlhuicaminaG/aptude/Building-Django-2.0-Web-Applications/.git/objects/a6', '/mnt/c/Users/MauricioIlhuicaminaG/aptude/somos_kudasai_elasticsearch/.git/objects/5a', '/mnt/c/Users/MauricioIlhuicaminaG/aptude/Building-Django-2.0-Web-Applications/Chapter07/solr', '/mnt/c/Users/MauricioIlhuicaminaG/aptude/Building-Django-2.0-Web-Applications/Chapter10', '/mnt/c/Users/MauricioIlhuicaminaG/aptude/somos_kudasai_elasticsearch/.git/refs/remotes/origin', '/mnt/c/Users/MauricioIlhuicaminaG/aptude/Building-Django-2.0-Web-Applications/.git/hooks', '/mnt/c/Users/MauricioIlhuicaminaG/aptude/somos_kudasai_elasticsearch/.git/refs', '/mnt/c/Users/MauricioIlhuicaminaG/aptude/Building-Django-2.0-Web-Applications/Chapter07/django/cueeneh/migrations', '/mnt/c/Users/MauricioIlhuicaminaG/aptude/django_test/django_test/__pycache__', '/mnt/c/Users/MauricioIlhuicaminaG/aptude/Building-Django-2.0-Web-Applications/.git/objects/91', '/mnt/c/Users/MauricioIlhuicaminaG/aptude/Building-Django-2.0-Web-Applications/.git/objects/67', '/mnt/c/Users/MauricioIlhuicaminaG/aptude/Building-Django-2.0-Web-Applications/.git/objects/b8', '/mnt/c/Users/MauricioIlhuicaminaG/aptude/Building-Django-2.0-Web-Applications/Chapter07/django/cueeneh', '/mnt/c/Users/MauricioIlhuicaminaG/aptude/flask_test/__pycache__', '/mnt/c/Users/MauricioIlhuicaminaG/aptude/Building-Django-2.0-Web-Applications/Chapter07/django/user/migrations/__pycache__', '/mnt/c/Users/MauricioIlhuicaminaG/aptude/Building-Django-2.0-Web-Applications/Chapter07/django/config', '/mnt/c/Users/MauricioIlhuicaminaG/aptude/somos_kudasai_elasticsearch/.git/objects/76', '/mnt/c/Users/MauricioIlhuicaminaG/aptude/Building-Django-2.0-Web-Applications/Chapter07/django/cueeneh/templates/search/indexes/cueeneh', '/mnt/c/Users/MauricioIlhuicaminaG/aptude/somos_kudasai_elasticsearch/.git', '/mnt/c/Users/MauricioIlhuicaminaG/aptude/somos_kudasai_elasticsearch/.git/refs/remotes', '/mnt/c/Users/MauricioIlhuicaminaG/aptude/Building-Django-2.0-Web-Applications/.git/objects/f8', '/mnt/c/Users/MauricioIlhuicaminaG/aptude/Building-Django-2.0-Web-Applications/.git/objects/23', '/mnt/c/Users/MauricioIlhuicaminaG/aptude/Building-Django-2.0-Web-Applications/.git/refs/heads', '/mnt/c/Users/MauricioIlhuicaminaG/aptude/Building-Django-2.0-Web-Applications/Chapter07/django/user/__pycache__', '/mnt/c/Users/MauricioIlhuicaminaG/aptude/somos_kudasai_elasticsearch/.git/logs/refs', '/mnt/c/Users/MauricioIlhuicaminaG/aptude/Building-Django-2.0-Web-Applications/.git/objects/70', '/mnt/c/Users/MauricioIlhuicaminaG/aptude/somos_kudasai_elasticsearch/.git/objects/69', '/mnt/c/Users/MauricioIlhuicaminaG/aptude/Building-Django-2.0-Web-Applications/.git/objects/1e', '/mnt/c/Users/MauricioIlhuicaminaG/aptude/somos_kudasai_elasticsearch/.git/objects/72', '/mnt/c/Users/MauricioIlhuicaminaG/aptude/Building-Django-2.0-Web-Applications/.git/objects/7c', '/mnt/c/Users/MauricioIlhuicaminaG/aptude/Building-Django-2.0-Web-Applications/.git/objects/45', '/mnt/c/Users/MauricioIlhuicaminaG/aptude/Building-Django-2.0-Web-Applications/Chapter07/django/user/migrations', '/mnt/c/Users/MauricioIlhuicaminaG/aptude/Building-Django-2.0-Web-Applications/.git/objects/4f', '/mnt/c/Users/MauricioIlhuicaminaG/aptude/Building-Django-2.0-Web-Applications/.git/objects/4c', '/mnt/c/Users/MauricioIlhuicaminaG/aptude/Building-Django-2.0-Web-Applications/.git/objects/28', '/mnt/c/Users/MauricioIlhuicaminaG/aptude/Building-Django-2.0-Web-Applications/Chapter04', '/mnt/c/Users/MauricioIlhuicaminaG/aptude/somos_kudasai_elasticsearch/.git/logs', '/mnt/c/Users/MauricioIlhuicaminaG/aptude/somos_kudasai_elasticsearch/.git/objects/94', '/mnt/c/Users/MauricioIlhuicaminaG/aptude/Building-Django-2.0-Web-Applications/Chapter07/django/cueeneh/templates', '/mnt/c/Users/MauricioIlhuicaminaG/aptude/Building-Django-2.0-Web-Applications/.git/objects/8e', '/mnt/c/Users/MauricioIlhuicaminaG/aptude/Building-Django-2.0-Web-Applications/.git/objects/ed', '/mnt/c/Users/MauricioIlhuicaminaG/aptude/Building-Django-2.0-Web-Applications/.git/objects/b7', '/mnt/c/Users/MauricioIlhuicaminaG/aptude/Building-Django-2.0-Web-Applications/Chapter06', '/mnt/c/Users/MauricioIlhuicaminaG/aptude/somos_kudasai_elasticsearch/.git/objects/7d', '/mnt/c/Users/MauricioIlhuicaminaG/aptude/Building-Django-2.0-Web-Applications/Chapter07/django/templates', '/mnt/c/Users/MauricioIlhuicaminaG/aptude/Building-Django-2.0-Web-Applications/Chapter07/django/cueeneh/service/__pycache__', '/mnt/c/Users/MauricioIlhuicaminaG/aptude/somos_kudasai_elasticsearch/.git/objects/96', '/mnt/c/Users/MauricioIlhuicaminaG/aptude/somos_kudasai_elasticsearch/.git/info', '/mnt/c/Users/MauricioIlhuicaminaG/aptude/Building-Django-2.0-Web-Applications/Chapter08', '/mnt/c/Users/MauricioIlhuicaminaG/aptude/Building-Django-2.0-Web-Applications/Chapter09', '/mnt/c/Users/MauricioIlhuicaminaG/aptude/Building-Django-2.0-Web-Applications/.git/objects/62', '/mnt/c/Users/MauricioIlhuicaminaG/aptude/Building-Django-2.0-Web-Applications/Chapter02', '/mnt/c/Users/MauricioIlhuicaminaG/aptude/Building-Django-2.0-Web-Applications/.git/objects/82', '/mnt/c/Users/MauricioIlhuicaminaG/aptude/Building-Django-2.0-Web-Applications/.git/objects/f2', '/mnt/c/Users/MauricioIlhuicaminaG/aptude/somos_kudasai_elasticsearch/somos_kudasai_elasticsearch/__pycache__', None, '/mnt/c/Users/MauricioIlhuicaminaG/aptude/Building-Django-2.0-Web-Applications/.git/info', '/mnt/c/Users/MauricioIlhuicaminaG/aptude/Building-Django-2.0-Web-Applications/.git/logs/refs/remotes', '/mnt/c/Users/MauricioIlhuicaminaG/aptude/Building-Django-2.0-Web-Applications/.git/objects/56', '/mnt/c/Users/MauricioIlhuicaminaG/aptude/Building-Django-2.0-Web-Applications/.git/objects/d8', '/mnt/c/Users/MauricioIlhuicaminaG/aptude/Building-Django-2.0-Web-Applications/.git/objects/ee', '/mnt/c/Users/MauricioIlhuicaminaG/aptude/Building-Django-2.0-Web-Applications/Chapter07/docker', '/mnt/c/Users/MauricioIlhuicaminaG/aptude/Building-Django-2.0-Web-Applications/Chapter07/elasticsearch', '/mnt/c/Users/MauricioIlhuicaminaG/aptude/somos_kudasai_elasticsearch/.git/objects/5b', '/mnt/c/Users/MauricioIlhuicaminaG/aptude/somos_kudasai_elasticsearch/.git/objects/c3', '/mnt/c/Users/MauricioIlhuicaminaG/aptude/somos_kudasai_elasticsearch/.git/objects/fc', '/mnt/c/Users/MauricioIlhuicaminaG/aptude/somos_kudasai_elasticsearch/.git/refs/tags', '/mnt/c/Users/MauricioIlhuicaminaG/aptude/somos_kudasai_elasticsearch/.git/objects/info', '/mnt/c/Users/MauricioIlhuicaminaG/aptude/Building-Django-2.0-Web-Applications/.git/objects/3f', '/mnt/c/Users/MauricioIlhuicaminaG/aptude/Building-Django-2.0-Web-Applications/.git/objects/52', '/mnt/c/Users/MauricioIlhuicaminaG/aptude/Building-Django-2.0-Web-Applications/.git/objects/f5', '/mnt/c/Users/MauricioIlhuicaminaG/aptude/somos_kudasai_elasticsearch/.git/logs/refs/heads', '/mnt/c/Users/MauricioIlhuicaminaG/aptude/Building-Django-2.0-Web-Applications/Chapter07/django/cueeneh/__pycache__', '/mnt/c/Users/MauricioIlhuicaminaG/aptude/Building-Django-2.0-Web-Applications/Chapter07/django/cueeneh/management', '/mnt/c/Users/MauricioIlhuicaminaG/aptude/test/test4/test11', '/mnt/c/Users/MauricioIlhuicaminaG/aptude/Building-Django-2.0-Web-Applications/.git/objects/d2', '/mnt/c/Users/MauricioIlhuicaminaG/aptude/somos_kudasai_elasticsearch/.git/objects/89', '/mnt/c/Users/MauricioIlhuicaminaG/aptude/Building-Django-2.0-Web-Applications/.git/objects/19', '/mnt/c/Users/MauricioIlhuicaminaG/aptude/somos_kudasai_elasticsearch/.git/objects/25', '/mnt/c/Users/MauricioIlhuicaminaG/aptude/somos_kudasai_elasticsearch/docs', '/mnt/c/Users/MauricioIlhuicaminaG/aptude/Building-Django-2.0-Web-Applications/Chapter07/docker/psql', '/mnt/c/Users/MauricioIlhuicaminaG/aptude/somos_kudasai_elasticsearch/.git/objects/03', '/mnt/c/Users/MauricioIlhuicaminaG/aptude/somos_kudasai_elasticsearch/.git/objects/f9', '/mnt/c/Users/MauricioIlhuicaminaG/aptude/somos_kudasai_elasticsearch/.git/objects/f0', '/mnt/c/Users/MauricioIlhuicaminaG/aptude/test/test1/test11', '/mnt/c/Users/MauricioIlhuicaminaG/aptude/Building-Django-2.0-Web-Applications/.git/objects/06', '/mnt/c/Users/MauricioIlhuicaminaG/aptude/Building-Django-2.0-Web-Applications/.git/objects/21', '/mnt/c/Users/MauricioIlhuicaminaG/aptude/Building-Django-2.0-Web-Applications/.git/objects/14', '/mnt/c/Users/MauricioIlhuicaminaG/aptude/somos_kudasai_elasticsearch/.git/objects/99', '/mnt/c/Users/MauricioIlhuicaminaG/aptude/Building-Django-2.0-Web-Applications/.git/objects/b3', '/mnt/c/Users/MauricioIlhuicaminaG/aptude/somos_kudasai_elasticsearch/build/lib/somos_kudasai_elasticsearch', '/mnt/c/Users/MauricioIlhuicaminaG/aptude/Building-Django-2.0-Web-Applications/.git/logs/refs/heads', '/mnt/c/Users/MauricioIlhuicaminaG/aptude/somos_kudasai_elasticsearch/.git/objects/86', '/mnt/c/Users/MauricioIlhuicaminaG/aptude/Building-Django-2.0-Web-Applications/Chapter07/django/cueeneh/management/commands', '/mnt/c/Users/MauricioIlhuicaminaG/aptude/somos_kudasai_elasticsearch/.git/objects/2d', '/mnt/c/Users/MauricioIlhuicaminaG/aptude/Building-Django-2.0-Web-Applications/Chapter07/django/cueeneh/management/commands/__pycache__', '/mnt/c/Users/MauricioIlhuicaminaG/aptude/Building-Django-2.0-Web-Applications/Chapter07/django/cueeneh/templates/search', '/mnt/c/Users/MauricioIlhuicaminaG/aptude/Building-Django-2.0-Web-Applications/.git/objects/16', '/mnt/c/Users/MauricioIlhuicaminaG/aptude/somos_kudasai_elasticsearch/.git/logs/refs/remotes', '/mnt/c/Users/MauricioIlhuicaminaG/aptude/test/test1', '/mnt/c/Users/MauricioIlhuicaminaG/aptude/Building-Django-2.0-Web-Applications/.git/objects/83', '/mnt/c/Users/MauricioIlhuicaminaG/aptude/Building-Django-2.0-Web-Applications/.git/objects/pack', '/mnt/c/Users/MauricioIlhuicaminaG/aptude/django_test/django_test', '/mnt/c/Users/MauricioIlhuicaminaG/aptude/Building-Django-2.0-Web-Applications/Chapter07/django/user', '/mnt/c/Users/MauricioIlhuicaminaG/aptude/somos_kudasai_elasticsearch/.git/objects/e1', '/mnt/c/Users/MauricioIlhuicaminaG/aptude/Building-Django-2.0-Web-Applications/.git/objects/0c', '/mnt/c/Users/MauricioIlhuicaminaG/aptude/Building-Django-2.0-Web-Applications/Chapter07/django/user/templates/registration', '/mnt/c/Users/MauricioIlhuicaminaG/aptude/Building-Django-2.0-Web-Applications/Chapter07', '/mnt/c/Users/MauricioIlhuicaminaG/aptude/Building-Django-2.0-Web-Applications/.git/objects/38', '/mnt/c/Users/MauricioIlhuicaminaG/aptude/Building-Django-2.0-Web-Applications/Chapter13', '/mnt/c/Users/MauricioIlhuicaminaG/aptude/somos_kudasai_elasticsearch/.git/objects/cf', '/mnt/c/Users/MauricioIlhuicaminaG/aptude/somos_kudasai_elasticsearch/.git/objects', '/mnt/c/Users/MauricioIlhuicaminaG/aptude/Building-Django-2.0-Web-Applications/.git/objects/b4', '/mnt/c/Users/MauricioIlhuicaminaG/aptude/Building-Django-2.0-Web-Applications/.git/objects/a0', '/mnt/c/Users/MauricioIlhuicaminaG/aptude/somos_kudasai_elasticsearch/.git/objects/pack', '/mnt/c/Users/MauricioIlhuicaminaG/aptude/somos_kudasai_elasticsearch/.git/branches', '/mnt/c/Users/MauricioIlhuicaminaG/aptude/Building-Django-2.0-Web-Applications/Chapter07/django/cueeneh/service', '/mnt/c/Users/MauricioIlhuicaminaG/aptude/Building-Django-2.0-Web-Applications/.git/objects/9a', '/mnt/c/Users/MauricioIlhuicaminaG/aptude/Building-Django-2.0-Web-Applications/.git/refs/tags', '/mnt/c/Users/MauricioIlhuicaminaG/aptude/Building-Django-2.0-Web-Applications/.git/objects/07', '/mnt/c/Users/MauricioIlhuicaminaG/aptude/Building-Django-2.0-Web-Applications/.git/refs/remotes/origin', '/mnt/c/Users/MauricioIlhuicaminaG/aptude/Building-Django-2.0-Web-Applications/.git/objects/a1', '/mnt/c/Users/MauricioIlhuicaminaG/aptude/Building-Django-2.0-Web-Applications/Chapter11', '/mnt/c/Users/MauricioIlhuicaminaG/aptude/Building-Django-2.0-Web-Applications/.git/objects/3a', '/mnt/c/Users/MauricioIlhuicaminaG/aptude/Building-Django-2.0-Web-Applications/.git', '/mnt/c/Users/MauricioIlhuicaminaG/aptude/somos_kudasai_elasticsearch/.git/objects/ab', '/mnt/c/Users/MauricioIlhuicaminaG/aptude/Building-Django-2.0-Web-Applications/Chapter07/django', '/mnt/c/Users/MauricioIlhuicaminaG/aptude/test/test4', '/mnt/c/Users/MauricioIlhuicaminaG/aptude/somos_kudasai_elasticsearch/.git/objects/19', '/mnt/c/Users/MauricioIlhuicaminaG/aptude/somos_kudasai_elasticsearch/.git/objects/44', '/mnt/c/Users/MauricioIlhuicaminaG/aptude/Building-Django-2.0-Web-Applications/.git/branches', '/mnt/c/Users/MauricioIlhuicaminaG/aptude/Building-Django-2.0-Web-Applications/.git/objects/c2', '/mnt/c/Users/MauricioIlhuicaminaG/aptude/Building-Django-2.0-Web-Applications/.git/objects/37', '/mnt/c/Users/MauricioIlhuicaminaG/aptude/somos_kudasai_elasticsearch/.git/objects/81', '/mnt/c/Users/MauricioIlhuicaminaG/aptude/Building-Django-2.0-Web-Applications/.git/objects/a5', '/mnt/c/Users/MauricioIlhuicaminaG/aptude/Building-Django-2.0-Web-Applications/Chapter07/django/user/templates', '/mnt/c/Users/MauricioIlhuicaminaG/aptude/somos_kudasai_elasticsearch/build', '/mnt/c/Users/MauricioIlhuicaminaG/aptude/somos_kudasai_elasticsearch/.git/objects/24', '/mnt/c/Users/MauricioIlhuicaminaG/aptude/Building-Django-2.0-Web-Applications/Chapter07/django/cueeneh/templates/cueeneh', '/mnt/c/Users/MauricioIlhuicaminaG/aptude/somos_kudasai_elasticsearch/.git/logs/refs/remotes/origin', '/mnt/c/Users/MauricioIlhuicaminaG/aptude/somos_kudasai_elasticsearch/.git/objects/07', '/mnt/c/Users/MauricioIlhuicaminaG/aptude/somos_kudasai_elasticsearch/.git/objects/d4', '/mnt/c/Users/MauricioIlhuicaminaG/aptude/Building-Django-2.0-Web-Applications/Chapter07/django/cueeneh/templates/cueeneh/common', '/mnt/c/Users/MauricioIlhuicaminaG/aptude/somos_kudasai_elasticsearch/somos_kudasai_elasticsearch.egg-info', '/mnt/c/Users/MauricioIlhuicaminaG/aptude/Building-Django-2.0-Web-Applications/.git/objects/e6', '/mnt/c/Users/MauricioIlhuicaminaG/aptude/Building-Django-2.0-Web-Applications/.git/objects/42', '/mnt/c/Users/MauricioIlhuicaminaG/aptude/Building-Django-2.0-Web-Applications/.git/objects/4a', '/mnt/c/Users/MauricioIlhuicaminaG/aptude/test/test3', '/mnt/c/Users/MauricioIlhuicaminaG/aptude/somos_kudasai_elasticsearch/dist', '/mnt/c/Users/MauricioIlhuicaminaG/aptude/Building-Django-2.0-Web-Applications/.git/logs/refs', '/mnt/c/Users/MauricioIlhuicaminaG/aptude/somos_kudasai_elasticsearch/.git/objects/f3', '/mnt/c/Users/MauricioIlhuicaminaG/aptude/Building-Django-2.0-Web-Applications/Chapter07/django/config/__pycache__', '/mnt/c/Users/MauricioIlhuicaminaG/aptude/Building-Django-2.0-Web-Applications/.git/objects/71', '/mnt/c/Users/MauricioIlhuicaminaG/aptude/Building-Django-2.0-Web-Applications/Chapter07/django/cueeneh/templates/search/indexes', '/mnt/c/Users/MauricioIlhuicaminaG/aptude/Building-Django-2.0-Web-Applications/.git/objects/86', '/mnt/c/Users/MauricioIlhuicaminaG/aptude/Building-Django-2.0-Web-Applications/.git/objects/44', '/mnt/c/Users/MauricioIlhuicaminaG/aptude/Building-Django-2.0-Web-Applications/.git/objects/8f', '/mnt/c/Users/MauricioIlhuicaminaG/aptude/somos_kudasai_elasticsearch/build/lib', '/mnt/c/Users/MauricioIlhuicaminaG/aptude/Building-Django-2.0-Web-Applications/Chapter07/docker/elastic_search', '/mnt/c/Users/MauricioIlhuicaminaG/aptude/somos_kudasai_elasticsearch/.git/refs/heads', '/mnt/c/Users/MauricioIlhuicaminaG/aptude/Building-Django-2.0-Web-Applications/Chapter07/django/static', '/mnt/c/Users/MauricioIlhuicaminaG/aptude/Building-Django-2.0-Web-Applications/Chapter12', '/mnt/c/Users/MauricioIlhuicaminaG/aptude/Building-Django-2.0-Web-Applications/.git/objects/de', '/mnt/c/Users/MauricioIlhuicaminaG/aptude/somos_kudasai_elasticsearch/.git/objects/bc', '/mnt/c/Users/MauricioIlhuicaminaG/aptude/somos_kudasai_elasticsearch/.git/hooks', '/mnt/c/Users/MauricioIlhuicaminaG/aptude/Building-Django-2.0-Web-Applications/Chapter01', '/mnt/c/Users/MauricioIlhuicaminaG/aptude/Building-Django-2.0-Web-Applications/Chapter03', '/mnt/c/Users/MauricioIlhuicaminaG/aptude/Building-Django-2.0-Web-Applications/.git/objects/69', '/mnt/c/Users/MauricioIlhuicaminaG/aptude/Building-Django-2.0-Web-Applications/.git/objects/d1', '/mnt/c/Users/MauricioIlhuicaminaG/aptude/somos_kudasai_elasticsearch/.git/objects/e5', '/mnt/c/Users/MauricioIlhuicaminaG/aptude/somos_kudasai_elasticsearch/.git/objects/7a', '/mnt/c/Users/MauricioIlhuicaminaG/aptude/Building-Django-2.0-Web-Applications/.git/objects/a4', '/mnt/c/Users/MauricioIlhuicaminaG/aptude/Building-Django-2.0-Web-Applications/Chapter07/django/user/templates/user', '/mnt/c/Users/MauricioIlhuicaminaG/aptude/somos_kudasai_elasticsearch/.git/objects/d5', '/mnt/c/Users/MauricioIlhuicaminaG/aptude/Building-Django-2.0-Web-Applications/.git/objects/b0', '/mnt/c/Users/MauricioIlhuicaminaG/aptude/Building-Django-2.0-Web-Applications/.git/objects/info', '/mnt/c/Users/MauricioIlhuicaminaG/aptude/Building-Django-2.0-Web-Applications/Chapter07/django/cueeneh/migrations/__pycache__', '/mnt/c/Users/MauricioIlhuicaminaG/aptude/somos_kudasai_elasticsearch/.git/objects/21', '/mnt/c/Users/MauricioIlhuicaminaG/aptude/somos_kudasai_elasticsearch/.git/objects/7f', '/mnt/c/Users/MauricioIlhuicaminaG/aptude/Building-Django-2.0-Web-Applications/.git/refs/remotes', '/mnt/c/Users/MauricioIlhuicaminaG/aptude/somos_kudasai_elasticsearch/.git/objects/a7', '/mnt/c/Users/MauricioIlhuicaminaG/aptude/Building-Django-2.0-Web-Applications/.git/objects', '/mnt/c/Users/MauricioIlhuicaminaG/aptude/somos_kudasai_elasticsearch/build/bdist.linux-x86_64', '/mnt/c/Users/MauricioIlhuicaminaG/aptude/Building-Django-2.0-Web-Applications/.git/logs/refs/remotes/origin', '/mnt/c/Users/MauricioIlhuicaminaG/aptude/Building-Django-2.0-Web-Applications/.git/logs', '/mnt/c/Users/MauricioIlhuicaminaG/aptude/Building-Django-2.0-Web-Applications/.git/objects/e8', '/mnt/c/Users/MauricioIlhuicaminaG/aptude/Building-Django-2.0-Web-Applications/Chapter05', '/mnt/c/Users/MauricioIlhuicaminaG/aptude/somos_kudasai_elasticsearch/.github', '/mnt/c/Users/MauricioIlhuicaminaG/aptude/Building-Django-2.0-Web-Applications/.git/objects/3b'}\n"
     ]
    },
    {
     "data": {
      "text/plain": [
       "True"
      ]
     },
     "execution_count": 16,
     "metadata": {},
     "output_type": "execute_result"
    }
   ],
   "source": [
    "stuff()"
   ]
  },
  {
   "cell_type": "code",
   "execution_count": null,
   "metadata": {},
   "outputs": [],
   "source": []
  }
 ],
 "metadata": {
  "kernelspec": {
   "display_name": "Python 3",
   "language": "python",
   "name": "python3"
  },
  "language_info": {
   "codemirror_mode": {
    "name": "ipython",
    "version": 3
   },
   "file_extension": ".py",
   "mimetype": "text/x-python",
   "name": "python",
   "nbconvert_exporter": "python",
   "pygments_lexer": "ipython3",
   "version": "3.8.5"
  }
 },
 "nbformat": 4,
 "nbformat_minor": 4
}
